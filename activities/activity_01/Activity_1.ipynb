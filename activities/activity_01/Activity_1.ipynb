{
 "cells": [
  {
   "cell_type": "markdown",
   "id": "residential-leeds",
   "metadata": {},
   "source": [
    "# CS5300 \n",
    "## Activity 1\n",
    "### Learning Python3\n",
    "#### Jeff Kilgore"
   ]
  },
  {
   "cell_type": "markdown",
   "id": "spare-roller",
   "metadata": {},
   "source": [
    "#### Basic DataTypes"
   ]
  },
  {
   "cell_type": "code",
   "execution_count": 8,
   "id": "occupational-eight",
   "metadata": {},
   "outputs": [
    {
     "name": "stdout",
     "output_type": "stream",
     "text": [
      "<class 'int'>\n",
      "<class 'float'>\n",
      "<class 'str'>\n",
      "<class 'bool'>\n"
     ]
    }
   ],
   "source": [
    "print(type(3))     #int\n",
    "print(type(3.0))   #float\n",
    "print(type('hi'))  #str\n",
    "print(type(True))  #bool"
   ]
  },
  {
   "cell_type": "markdown",
   "id": "lesbian-demand",
   "metadata": {},
   "source": [
    "#### Booleans"
   ]
  },
  {
   "cell_type": "code",
   "execution_count": 11,
   "id": "sufficient-shadow",
   "metadata": {},
   "outputs": [
    {
     "name": "stdout",
     "output_type": "stream",
     "text": [
      "True\n",
      "False\n",
      "True\n",
      "True\n",
      "False\n",
      "True\n"
     ]
    }
   ],
   "source": [
    "print(True)\n",
    "print(True and False)\n",
    "print(True or False)\n",
    "print(True == True)\n",
    "print(True == False)\n",
    "print(True != False)"
   ]
  },
  {
   "cell_type": "markdown",
   "id": "corresponding-times",
   "metadata": {},
   "source": [
    "#### Bitwise vs Logical Operators"
   ]
  },
  {
   "cell_type": "code",
   "execution_count": 16,
   "id": "surgical-large",
   "metadata": {},
   "outputs": [
    {
     "name": "stdout",
     "output_type": "stream",
     "text": [
      "False\n",
      "True\n",
      "False\n",
      "True\n",
      "True\n"
     ]
    }
   ],
   "source": [
    "print(True & False)\n",
    "print(True | False)\n",
    "\n",
    "print(0<1 & 0<2)\n",
    "print((0<1) & (0<2))\n",
    "print(0<1 and 0<2)\n"
   ]
  },
  {
   "cell_type": "markdown",
   "id": "color-adelaide",
   "metadata": {},
   "source": [
    "#### Strings"
   ]
  },
  {
   "cell_type": "code",
   "execution_count": 34,
   "id": "suited-report",
   "metadata": {},
   "outputs": [
    {
     "name": "stdout",
     "output_type": "stream",
     "text": [
      "foobar\n",
      "foo bar\n",
      "foo=foo, bar=bar\n",
      "<class 'str'>\n",
      "Foo\n",
      "FOO\n",
      "'    foo'\n",
      "'  foo  '\n",
      "f00\n",
      "['This', 'line', 'has', 'alot', 'of', 'whitespace']\n"
     ]
    }
   ],
   "source": [
    "foo = 'foo'\n",
    "bar = 'bar'\n",
    "print(foo+bar)   #concat\n",
    "print(foo, bar)\n",
    "print(f'foo={foo}, bar={bar}')   #f strings\n",
    "print(type(str(12)))  #string conversion\n",
    "\n",
    "print(foo.capitalize())  #Capitalize first letter of string\n",
    "print(foo.upper())       #Change all characters to upper-case\n",
    "print('\\''+foo.rjust(7)+'\\'')\n",
    "print('\\''+foo.center(7)+'\\'')\n",
    "print(foo.replace('o',str(0)))\n",
    "print('This   line       has alot         of            whitespace'.split())   #converts a string to a list of words\n"
   ]
  },
  {
   "cell_type": "markdown",
   "id": "adequate-garbage",
   "metadata": {},
   "source": [
    "### Containers\n",
    "#### Lists"
   ]
  },
  {
   "cell_type": "code",
   "execution_count": 50,
   "id": "economic-rally",
   "metadata": {},
   "outputs": [
    {
     "name": "stdout",
     "output_type": "stream",
     "text": [
      "[0, 1, 2, 3, 4, 5, 6, 7, 8, 9]\n",
      "0\n",
      "9\n",
      "[0, 1]\n",
      "[3, 4, 5, 6]\n",
      "[0, 1, 2, 3, 4, 5, 6, 7, 8, 9, 'hello']\n",
      "[0, 1, 2, 3, 4, 5, 6, 7, 8, 9]\n",
      "[0, 1, 2, 3, 4, 5, 6, 7, 8, 9, [20, 21, 22]]\n",
      "[0, 1, 2, 3, 4, 5, 6, 7, 8, 9, 20, 21, 22]\n",
      "0 = 0\n",
      "1 = 1\n",
      "2 = 2\n",
      "3 = 3\n",
      "4 = 4\n",
      "5 = 5\n",
      "6 = 6\n",
      "7 = 7\n",
      "8 = 8\n",
      "9 = 9\n",
      "10 = 20\n",
      "11 = 21\n",
      "12 = 22\n",
      "[0, 4, 16, 36, 64, 400, 484]\n"
     ]
    }
   ],
   "source": [
    "mylist = [i for i in range(10)]\n",
    "print(mylist)\n",
    "print(mylist[0])\n",
    "print(mylist[-1])\n",
    "print(mylist[:2])  #print last 2 items in the list\n",
    "print(mylist[3:7]) #print a slice of the list\n",
    "mylist.append('hello')  #append an item to the end of the list\n",
    "print(mylist)\n",
    "mylist.pop()       #remove the last item from the list\n",
    "print(mylist)\n",
    "mylist.append([20,21,22])  #append a list to the list\n",
    "print(mylist)\n",
    "mylist.pop()\n",
    "mylist.extend([20,21,22])  #append the values of a list to the list\n",
    "print(mylist)\n",
    "\n",
    "#looping\n",
    "for i, item in enumerate(mylist):\n",
    "    print(f'{i} = {item}')\n",
    "\n",
    "    \n",
    "#list comprehension with conditionals\n",
    "print([x**2 for x in mylist if x%2==0])"
   ]
  },
  {
   "cell_type": "markdown",
   "id": "accepted-carnival",
   "metadata": {},
   "source": [
    "#### Dictionaries"
   ]
  },
  {
   "cell_type": "code",
   "execution_count": 59,
   "id": "hired-treasure",
   "metadata": {},
   "outputs": [
    {
     "name": "stdout",
     "output_type": "stream",
     "text": [
      "dict_keys(['dog', 'cow'])\n",
      "dict_values(['bark', 'moo'])\n",
      "bark\n",
      "dog makes a sound of \"bark\"\n",
      "cow makes a sound of \"moo\"\n",
      "N/A\n",
      "True\n",
      "A dog makes a \"bark\" sound.\n",
      "A cow makes a \"moo\" sound.\n",
      "A cat makes a \"meow\" sound.\n",
      "{0: 0, 2: 4, 4: 16}\n"
     ]
    }
   ],
   "source": [
    "mydict = {'dog':'bark', 'cow':'moo'}\n",
    "print(mydict.keys())\n",
    "print(mydict.values())\n",
    "print(mydict['dog'])\n",
    "    \n",
    "for animal,sound in mydict.items():\n",
    "    print(f'{animal} makes a sound of \"{sound}\"')\n",
    "    \n",
    "print(mydict.get('horse','N/A'))  #default value if key not found\n",
    "print('dog' in mydict)  #test if key exists\n",
    "\n",
    "mydict['cat']='meow'\n",
    "\n",
    "\n",
    "for animal in mydict.keys():      #key iteration\n",
    "    print(f'A {animal} makes a \"{mydict[animal]}\" sound.')\n",
    "    \n",
    "nums = [i for i in range(5)]\n",
    "even_num_dict = {x: x ** 2 for x in nums if x % 2 == 0}\n",
    "print(even_num_dict)\n"
   ]
  },
  {
   "cell_type": "markdown",
   "id": "suspended-group",
   "metadata": {},
   "source": [
    "#### Sets"
   ]
  },
  {
   "cell_type": "code",
   "execution_count": 66,
   "id": "infrared-shark",
   "metadata": {},
   "outputs": [
    {
     "name": "stdout",
     "output_type": "stream",
     "text": [
      "{'dog', 'cat'}\n",
      "{'horse', 'cow'}\n",
      "{'horse', 'cow', 'fish'}\n",
      "0 = horse\n",
      "1 = cow\n",
      "2 = fish\n",
      "{0, 1, 2, 3, 4, 5}\n"
     ]
    }
   ],
   "source": [
    "animals = {'cat','dog','cat'}\n",
    "print(animals)   #no duplicate items!\n",
    "\n",
    "animals = set(['horse','cow','horse'])   #create a set from a list using 'set' function\n",
    "print(animals)\n",
    "\n",
    "animals.add('fish')\n",
    "print(animals)\n",
    "\n",
    "for i,animal in enumerate(animals):\n",
    "    print(f'{i} = {animal}')\n",
    "    \n",
    "    \n",
    "from math import sqrt\n",
    "myset = {int(sqrt(x)) for x in range(30)}\n",
    "print(myset)"
   ]
  },
  {
   "cell_type": "markdown",
   "id": "light-hampton",
   "metadata": {},
   "source": [
    "#### Tuples"
   ]
  },
  {
   "cell_type": "code",
   "execution_count": 72,
   "id": "thick-stereo",
   "metadata": {},
   "outputs": [
    {
     "name": "stdout",
     "output_type": "stream",
     "text": [
      "{(0, 1): 0, (1, 2): 1, (2, 3): 2, (3, 4): 3, (4, 5): 4, (5, 6): 5, (6, 7): 6, (7, 8): 7, (8, 9): 8, (9, 10): 9}\n",
      "<class 'tuple'>\n",
      "(1, 2) 1 2\n",
      "1\n"
     ]
    },
    {
     "ename": "TypeError",
     "evalue": "'tuple' object does not support item assignment",
     "output_type": "error",
     "traceback": [
      "\u001b[1;31m---------------------------------------------------------------------------\u001b[0m",
      "\u001b[1;31mTypeError\u001b[0m                                 Traceback (most recent call last)",
      "\u001b[1;32m<ipython-input-72-561c1c852c30>\u001b[0m in \u001b[0;36m<module>\u001b[1;34m\u001b[0m\n\u001b[0;32m      9\u001b[0m \u001b[1;33m\u001b[0m\u001b[0m\n\u001b[0;32m     10\u001b[0m \u001b[1;33m\u001b[0m\u001b[0m\n\u001b[1;32m---> 11\u001b[1;33m \u001b[0mt\u001b[0m\u001b[1;33m[\u001b[0m\u001b[1;36m1\u001b[0m\u001b[1;33m]\u001b[0m \u001b[1;33m=\u001b[0m \u001b[1;36m4\u001b[0m \u001b[1;31m#tuples are immutable.\u001b[0m\u001b[1;33m\u001b[0m\u001b[1;33m\u001b[0m\u001b[0m\n\u001b[0m",
      "\u001b[1;31mTypeError\u001b[0m: 'tuple' object does not support item assignment"
     ]
    }
   ],
   "source": [
    "d = {(x,x+1): x for x in range(10)}\n",
    "print(d)\n",
    "\n",
    "t = (1,2)\n",
    "\n",
    "print(type(t))\n",
    "print(t, t[0], t[1])\n",
    "print(d[(1,2)])\n",
    "\n",
    "\n",
    "t[1] = 4 #tuples are immutable.\n"
   ]
  },
  {
   "cell_type": "markdown",
   "id": "convertible-champagne",
   "metadata": {},
   "source": [
    "#### Functions"
   ]
  },
  {
   "cell_type": "code",
   "execution_count": 75,
   "id": "intimate-stock",
   "metadata": {},
   "outputs": [
    {
     "name": "stdout",
     "output_type": "stream",
     "text": [
      "(5, 6, 25)\n",
      "(5, 6)\n"
     ]
    }
   ],
   "source": [
    "def myfunc(x: int, include_sqr=True):   #define a function\n",
    "    if(include_sqr):\n",
    "        return x,x+1,x**2    #functions can return a tuple of values\n",
    "    else:\n",
    "        return x,x+1\n",
    "\n",
    "print(myfunc(5))\n",
    "print(myfunc(5,False))"
   ]
  },
  {
   "cell_type": "markdown",
   "id": "linear-meaning",
   "metadata": {},
   "source": [
    "##### What is wrong with the following function's arguments?\n",
    "Note: A parameter is variable in the declaration of function. Argument is the actual value of this variable that gets passed to function.\n",
    "***\n",
    "<span style='color:red'>I don't know</span>"
   ]
  },
  {
   "cell_type": "code",
   "execution_count": 82,
   "id": "mechanical-badge",
   "metadata": {},
   "outputs": [
    {
     "name": "stdout",
     "output_type": "stream",
     "text": [
      "HELLO, FRED\n"
     ]
    }
   ],
   "source": [
    "def hello(name, loud=False):\n",
    "    if loud:\n",
    "        print( 'HELLO, %s' % name.upper() )\n",
    "    else:\n",
    "        print( 'Hello, %s!' % name )\n",
    "        \n",
    "hello('Fred',loud='Wilma')"
   ]
  },
  {
   "cell_type": "markdown",
   "id": "stable-daniel",
   "metadata": {},
   "source": [
    "#### Classes"
   ]
  },
  {
   "cell_type": "code",
   "execution_count": 83,
   "id": "european-acceptance",
   "metadata": {},
   "outputs": [
    {
     "name": "stdout",
     "output_type": "stream",
     "text": [
      "something\n"
     ]
    }
   ],
   "source": [
    "class A:\n",
    "            \n",
    "    def print_something(self):\n",
    "        print('something')\n",
    "        \n",
    "        \n",
    "        \n",
    "a = A()\n",
    "a.print_something()\n"
   ]
  },
  {
   "cell_type": "code",
   "execution_count": 86,
   "id": "short-biotechnology",
   "metadata": {},
   "outputs": [
    {
     "name": "stdout",
     "output_type": "stream",
     "text": [
      "Hello Sam\n",
      "HELLO SAM\n"
     ]
    }
   ],
   "source": [
    "class Greeter:\n",
    "    name = ''\n",
    "    def __init__(self, name='nobody'):\n",
    "        self.name = name\n",
    "        \n",
    "    def greet(self, loud=False):\n",
    "        if loud:\n",
    "            print(f'Hello {self.name}'.upper())\n",
    "        else:\n",
    "            print(f'Hello {self.name}')\n",
    "            \n",
    "            \n",
    "g = Greeter('Sam')\n",
    "g.greet()\n",
    "g.greet(True)\n"
   ]
  }
 ],
 "metadata": {
  "kernelspec": {
   "display_name": "Python 3",
   "language": "python",
   "name": "python3"
  },
  "language_info": {
   "codemirror_mode": {
    "name": "ipython",
    "version": 3
   },
   "file_extension": ".py",
   "mimetype": "text/x-python",
   "name": "python",
   "nbconvert_exporter": "python",
   "pygments_lexer": "ipython3",
   "version": "3.8.6"
  }
 },
 "nbformat": 4,
 "nbformat_minor": 5
}
